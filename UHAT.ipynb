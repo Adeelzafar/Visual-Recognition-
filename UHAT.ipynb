{
  "nbformat": 4,
  "nbformat_minor": 0,
  "metadata": {
    "kernelspec": {
      "display_name": "Python 3",
      "language": "python",
      "name": "python3"
    },
    "language_info": {
      "codemirror_mode": {
        "name": "ipython",
        "version": 3
      },
      "file_extension": ".py",
      "mimetype": "text/x-python",
      "name": "python",
      "nbconvert_exporter": "python",
      "pygments_lexer": "ipython3",
      "version": "3.7.6"
    },
    "colab": {
      "provenance": [],
      "include_colab_link": true
    },
    "accelerator": "GPU"
  },
  "cells": [
    {
      "cell_type": "markdown",
      "metadata": {
        "id": "view-in-github",
        "colab_type": "text"
      },
      "source": [
        "<a href=\"https://colab.research.google.com/github/Adeelzafar/Visual-Recognition-/blob/main/UHAT.ipynb\" target=\"_parent\"><img src=\"https://colab.research.google.com/assets/colab-badge.svg\" alt=\"Open In Colab\"/></a>"
      ]
    },
    {
      "cell_type": "code",
      "metadata": {
        "id": "kLr-z22dtTI_",
        "outputId": "f62e7134-21b8-406c-c004-8b9cc8e60e28",
        "colab": {
          "base_uri": "https://localhost:8080/",
          "height": 34
        }
      },
      "source": [
        "#Setup Kaggle DIR; copy json file ; chmod\n",
        "!mkdir -p ~/.kaggle\n",
        "!cp kaggle.json ~/.kaggle/\n",
        "!chmod 600 ~/.kaggle/kaggle.json\n",
        "!ls ~/.kaggle"
      ],
      "execution_count": null,
      "outputs": [
        {
          "output_type": "stream",
          "text": [
            "kaggle.json\n"
          ],
          "name": "stdout"
        }
      ]
    },
    {
      "cell_type": "code",
      "metadata": {
        "id": "HVsYvaHFtWOo",
        "outputId": "e95bc294-7365-4387-ce16-b50a43cfc34c",
        "colab": {
          "base_uri": "https://localhost:8080/",
          "height": 134
        }
      },
      "source": [
        "#Install kaggle packages\n",
        "!pip install -q kaggle\n",
        "!pip install -q kaggle-cli"
      ],
      "execution_count": null,
      "outputs": [
        {
          "output_type": "stream",
          "text": [
            "\u001b[K     |████████████████████████████████| 81kB 6.0MB/s \n",
            "\u001b[K     |████████████████████████████████| 5.3MB 24.6MB/s \n",
            "\u001b[K     |████████████████████████████████| 51kB 8.7MB/s \n",
            "\u001b[K     |████████████████████████████████| 112kB 59.4MB/s \n",
            "\u001b[K     |████████████████████████████████| 112kB 69.0MB/s \n",
            "\u001b[?25h  Building wheel for kaggle-cli (setup.py) ... \u001b[?25l\u001b[?25hdone\n",
            "  Building wheel for pyperclip (setup.py) ... \u001b[?25l\u001b[?25hdone\n"
          ],
          "name": "stdout"
        }
      ]
    },
    {
      "cell_type": "code",
      "metadata": {
        "id": "9WgX7zNdtYFB",
        "outputId": "74036e33-614a-4423-e7e0-d611b1f58d07",
        "colab": {
          "base_uri": "https://localhost:8080/",
          "height": 84
        }
      },
      "source": [
        "#!kaggle datasets list\n",
        "!kaggle datasets list -s hazrat/uhat-urdu-handwritten-text-dataset"
      ],
      "execution_count": null,
      "outputs": [
        {
          "output_type": "stream",
          "text": [
            "Warning: Looks like you're using an outdated API Version, please consider updating (server 1.5.6 / client 1.5.4)\n",
            "ref                                        title                                size  lastUpdated          downloadCount  \n",
            "-----------------------------------------  -----------------------------------  ----  -------------------  -------------  \n",
            "hazrat/uhat-urdu-handwritten-text-dataset  UHaT: Urdu handwritten text dataset  43MB  2020-02-17 08:11:52             59  \n"
          ],
          "name": "stdout"
        }
      ]
    },
    {
      "cell_type": "code",
      "metadata": {
        "id": "s38vSVyatqcF",
        "outputId": "8e23c088-4d61-4e33-d1fd-f6dcb9eb3a4d",
        "colab": {
          "base_uri": "https://localhost:8080/",
          "height": 67
        }
      },
      "source": [
        "!kaggle datasets download -d hazrat/uhat-urdu-handwritten-text-dataset\n"
      ],
      "execution_count": null,
      "outputs": [
        {
          "output_type": "stream",
          "text": [
            "Downloading uhat-urdu-handwritten-text-dataset.zip to /content\n",
            "\r  0% 0.00/43.4M [00:00<?, ?B/s]\r 30% 13.0M/43.4M [00:00<00:00, 135MB/s]\r 67% 29.0M/43.4M [00:00<00:00, 143MB/s]\r 85% 37.0M/43.4M [00:00<00:00, 62.6MB/s]\n",
            "\r100% 43.4M/43.4M [00:00<00:00, 80.5MB/s]\n"
          ],
          "name": "stdout"
        }
      ]
    },
    {
      "cell_type": "code",
      "metadata": {
        "id": "OnzP5_-ktvCg"
      },
      "source": [
        "%%capture\n",
        "!unzip uhat-urdu-handwritten-text-dataset.zip"
      ],
      "execution_count": null,
      "outputs": []
    },
    {
      "cell_type": "code",
      "metadata": {
        "id": "If7HS7sFS_6R"
      },
      "source": [
        "#!wget https://www.kaggleusercontent.com/kf/33003468/eyJhbGciOiJkaXIiLCJlbmMiOiJBMTI4Q0JDLUhTMjU2In0..QAz3vLDP_7Tr34QZ7cMiVQ.8qNtUmzHui3eRNWD6Nb4DgVcTmVKy2Qjsj69BCO3CoOdY6bYQK9z6FeIKjvVU4KJrZJuJWMp2ydMTiFMuRon2we3AjjnzxZ6ddjl94Td1eXFUf6MbJlH2kS_q1wqrJAIDv6RIy5rxD8G5BKOJ7DA0IYIfTZz0GvJo_X7C9Cc0KZ4Dq38JxuAeS-_yrD7BNqBdRB9ehyN2a0-8X9XcZLnWTZMWxa4iGsFZ7A5jq7Wv1FCLbNTPU2mWHl1Mpv6GpdH2pfVW4JUkKcBfRAqdov5w_7UjQXzGH3hPF3IIZgBWLVNzUs26ExeQykjS0TW340wWydzksb6Tbvej5kMHLbCgfgPu0yOCByDd8ZS6oIJWT0bpopGOK3qO0fsn2AYfC7wIEVONfGCF_Zt28WYdfuH8tYoGsHpbUikiliGFnGb1_SQgUVvnogv9mO89nW4MZ2-89V2uRkv2ePCmpY8bvuC8iBYfOkWt5Bbt7arep3iLnDf3C2Eq6AlRkeZQHpf5d0mS8oY944f7In2R76PsAE7_68MMZLZ_PFEQ-Nj3BvohQFOrdEGgK-R8fDfby3wEMcn56eqFstg8UEOHEgGkZNBN_qT1pP_SdpXDWGWL5WGyhK__IRrYAtwc80gBtoVWNqTwU4dk6HBfKA_Nb20DVvCT6XihXKddhT3g58muZdvPNlPX0GVg5q5AtOGFwwvt_Y9.e7eA3tDHRhzSkYIxcyFrjA/mnist.h5"
      ],
      "execution_count": null,
      "outputs": []
    },
    {
      "cell_type": "code",
      "metadata": {
        "id": "4drPKbWPt41L"
      },
      "source": [
        "%%capture\n",
        "#!pip install image-classifiers==1.0.0b1"
      ],
      "execution_count": null,
      "outputs": []
    },
    {
      "cell_type": "code",
      "metadata": {
        "id": "dlTuXjMotN-u"
      },
      "source": [
        "import numpy as np # linear algebra\n",
        "import pandas as pd # data processing, CSV file I/O (e.g. pd.read_csv)\n",
        "import matplotlib.pyplot as plt\n",
        "import cv2"
      ],
      "execution_count": null,
      "outputs": []
    },
    {
      "cell_type": "code",
      "metadata": {
        "id": "q1in-JG7VOjg"
      },
      "source": [],
      "execution_count": null,
      "outputs": []
    },
    {
      "cell_type": "code",
      "metadata": {
        "id": "Q_yX4JOXuMD8"
      },
      "source": [
        "path='/content/data/data/'"
      ],
      "execution_count": null,
      "outputs": []
    },
    {
      "cell_type": "code",
      "metadata": {
        "id": "IcfR9bSVtN-z",
        "outputId": "3e42b71f-6487-4952-c644-450ffbe95c5e",
        "colab": {
          "base_uri": "https://localhost:8080/",
          "height": 34
        }
      },
      "source": [
        "img=cv2.imread(path+'characters_train_set/sheen/sheen (479).jpg')\n",
        "img.shape"
      ],
      "execution_count": null,
      "outputs": [
        {
          "output_type": "execute_result",
          "data": {
            "text/plain": [
              "(28, 28, 3)"
            ]
          },
          "metadata": {
            "tags": []
          },
          "execution_count": 10
        }
      ]
    },
    {
      "cell_type": "code",
      "metadata": {
        "id": "bGrZxbNItN-3"
      },
      "source": [
        "from keras_preprocessing.image import ImageDataGenerator\n",
        "\n",
        "data_gen= ImageDataGenerator(\n",
        "    horizontal_flip=True,\n",
        "    vertical_flip=True,\n",
        "    rotation_range=360,\n",
        "    width_shift_range=0.1,\n",
        "    height_shift_range=0.1,\n",
        "    zoom_range=.1,\n",
        "    rescale=1/255,\n",
        "    fill_mode='nearest',\n",
        "    shear_range=0.1,\n",
        "    brightness_range=[0.5, 1.5],\n",
        "    validation_split=0.3)"
      ],
      "execution_count": null,
      "outputs": []
    },
    {
      "cell_type": "code",
      "metadata": {
        "id": "5ZVpSrINtN-6"
      },
      "source": [
        "img_shape=28\n",
        "batch_size=64"
      ],
      "execution_count": null,
      "outputs": []
    },
    {
      "cell_type": "code",
      "metadata": {
        "id": "DP-tLq6ztN-9",
        "outputId": "25190119-2c40-4700-b723-c22bd26af08f",
        "colab": {
          "base_uri": "https://localhost:8080/",
          "height": 34
        }
      },
      "source": [
        "train_generator = data_gen.flow_from_directory(\n",
        "    path+'characters_train_set/',\n",
        "    target_size=(img_shape,img_shape),\n",
        "    batch_size=batch_size,\n",
        "    class_mode='categorical',\n",
        "    subset='training',\n",
        "    color_mode=\"grayscale\",\n",
        "    shuffle=True)"
      ],
      "execution_count": null,
      "outputs": [
        {
          "output_type": "stream",
          "text": [
            "Found 19847 images belonging to 40 classes.\n"
          ],
          "name": "stdout"
        }
      ]
    },
    {
      "cell_type": "code",
      "metadata": {
        "_cell_guid": "79c7e3d0-c299-4dcb-8224-4455121ee9b0",
        "_uuid": "d629ff2d2480ee46fbb7e2d37f6b5fab8052498a",
        "id": "CuL-uE7gtN-_",
        "outputId": "728bd9f1-24e4-40f1-f638-00d5e65ed610",
        "colab": {
          "base_uri": "https://localhost:8080/",
          "height": 34
        }
      },
      "source": [
        "val_suffle=False\n",
        "val_generator = data_gen.flow_from_directory(\n",
        "    path+'characters_train_set',\n",
        "    target_size=(img_shape,img_shape),\n",
        "    batch_size=batch_size,\n",
        "    class_mode='categorical',\n",
        "    color_mode=\"grayscale\",\n",
        "    subset='validation',shuffle=val_suffle)#shuffle should be False in validation\n",
        "    #https://stackoverflow.com/a/47439789/11170350"
      ],
      "execution_count": null,
      "outputs": [
        {
          "output_type": "stream",
          "text": [
            "Found 8481 images belonging to 40 classes.\n"
          ],
          "name": "stdout"
        }
      ]
    },
    {
      "cell_type": "code",
      "metadata": {
        "id": "uV4c59H4tN_B",
        "outputId": "315bf144-733f-4415-9624-9e3c21f8d32a",
        "colab": {
          "base_uri": "https://localhost:8080/",
          "height": 34
        }
      },
      "source": [
        "test_suffle=False\n",
        "test_generator = data_gen.flow_from_directory(\n",
        "    path+'characters_test_set/',\n",
        "    target_size=(img_shape,img_shape),\n",
        "    batch_size=batch_size,\n",
        "    class_mode='categorical',\n",
        "    color_mode=\"grayscale\",\n",
        "    shuffle=False)#shuffle should be False in validation\n",
        "    #https://stackoverflow.com/a/47439789/11170350"
      ],
      "execution_count": null,
      "outputs": [
        {
          "output_type": "stream",
          "text": [
            "Found 4880 images belonging to 40 classes.\n"
          ],
          "name": "stdout"
        }
      ]
    },
    {
      "cell_type": "code",
      "metadata": {
        "id": "IuwhS1SYtN_E",
        "outputId": "94904b91-114e-4be7-bd4c-3c0504396dde",
        "colab": {
          "base_uri": "https://localhost:8080/",
          "height": 34
        }
      },
      "source": [
        "train_generator.next()[0].shape,train_generator.next()[1].shape\n"
      ],
      "execution_count": null,
      "outputs": [
        {
          "output_type": "execute_result",
          "data": {
            "text/plain": [
              "((64, 28, 28, 1), (64, 40))"
            ]
          },
          "metadata": {
            "tags": []
          },
          "execution_count": 16
        }
      ]
    },
    {
      "cell_type": "code",
      "metadata": {
        "id": "btD8loOPHVsk"
      },
      "source": [
        "from tensorflow.keras.models import Sequential\n",
        "from tensorflow.keras.layers import BatchNormalization, Conv2D, MaxPooling2D, Activation, Flatten, Dropout, Dense,BatchNormalization\n",
        "from tensorflow.keras.losses import categorical_crossentropy"
      ],
      "execution_count": null,
      "outputs": []
    },
    {
      "cell_type": "code",
      "metadata": {
        "id": "RTpCNeGttN_L"
      },
      "source": [
        "model = Sequential()\n",
        "model.add(Conv2D(filters=64, kernel_size=3, padding='same', activation='relu', input_shape=(28,28,1)))\n",
        "model.add(Conv2D(filters=64, kernel_size=3, padding='same', activation='relu'))\n",
        "model.add(Conv2D(filters=128, kernel_size=3, padding='same', activation='relu'))\n",
        "#model.add(BatchNormalization(axis=1))\n",
        "model.add(MaxPooling2D(pool_size=2))\n",
        "model.add(Conv2D(filters=128, kernel_size=3, padding='same', activation='relu'))\n",
        "model.add(Conv2D(filters=192, kernel_size=3, padding='same', activation='relu'))\n",
        "model.add(MaxPooling2D(pool_size=2))\n",
        "#model.add(BatchNormalization(axis=1))\n",
        "model.add(Conv2D(filters=192, kernel_size=5, padding='same', activation='relu'))\n",
        "model.add(MaxPooling2D(pool_size=2, padding='same'))\n",
        "model.add(Flatten())\n",
        "model.add(Dense(256, activation='relu'))\n",
        "model.add(Dense(40, activation='softmax'))"
      ],
      "execution_count": null,
      "outputs": []
    },
    {
      "cell_type": "code",
      "metadata": {
        "id": "mjG1r-8DTElc"
      },
      "source": [
        "#model.load_weights('mnist.h5')"
      ],
      "execution_count": null,
      "outputs": []
    },
    {
      "cell_type": "code",
      "metadata": {
        "id": "Q6a7XmB0Udrg"
      },
      "source": [
        "def custom_loss(y_true, y_pred):\n",
        "    return categorical_crossentropy(y_true, y_pred, label_smoothing=0.1)"
      ],
      "execution_count": null,
      "outputs": []
    },
    {
      "cell_type": "code",
      "metadata": {
        "id": "V5tB9xVWAcsE"
      },
      "source": [
        "model.compile(loss='categorical_crossentropy', optimizer='adam', metrics=['accuracy'])\n",
        "#model.compile(loss=custom_loss, optimizer='adam', metrics=['accuracy'])\n"
      ],
      "execution_count": null,
      "outputs": []
    },
    {
      "cell_type": "code",
      "metadata": {
        "id": "ycWyqDKstN_N",
        "outputId": "21e04ffb-dcb9-4501-837d-bf835b8b1983",
        "colab": {
          "base_uri": "https://localhost:8080/",
          "height": 34
        }
      },
      "source": [
        "from keras.callbacks import ModelCheckpoint   \n",
        "from tensorflow.keras.callbacks import ReduceLROnPlateau\n",
        "\n"
      ],
      "execution_count": null,
      "outputs": [
        {
          "output_type": "stream",
          "text": [
            "Using TensorFlow backend.\n"
          ],
          "name": "stderr"
        }
      ]
    },
    {
      "cell_type": "code",
      "metadata": {
        "id": "4CyWnChWtN_U"
      },
      "source": [
        "num_epochs=25"
      ],
      "execution_count": null,
      "outputs": []
    },
    {
      "cell_type": "code",
      "metadata": {
        "id": "tvwcMv4itN_Y",
        "outputId": "64118f7a-1780-4ddf-90e5-2c82019c3ccf",
        "colab": {
          "base_uri": "https://localhost:8080/",
          "height": 877
        }
      },
      "source": [
        "histoy = model.fit(train_generator,epochs=num_epochs,verbose=1,\n",
        "                              steps_per_epoch=train_generator.n/batch_size,\n",
        "                              validation_data=test_generator,\n",
        "                             validation_steps=test_generator.n/batch_size,\n",
        "                              callbacks=[\n",
        "                                  ReduceLROnPlateau(monitor='val_loss', factor=0.3,patience=2, min_lr=0.000001)\n",
        "                              ]\n",
        "                    )"
      ],
      "execution_count": null,
      "outputs": [
        {
          "output_type": "stream",
          "text": [
            "Epoch 1/25\n",
            "311/310 [==============================] - 16s 53ms/step - loss: 2.9088 - accuracy: 0.1782 - val_loss: 6.9600 - val_accuracy: 0.0412 - lr: 0.0010\n",
            "Epoch 2/25\n",
            "311/310 [==============================] - 16s 52ms/step - loss: 1.8213 - accuracy: 0.4549 - val_loss: 8.3702 - val_accuracy: 0.1029 - lr: 0.0010\n",
            "Epoch 3/25\n",
            "311/310 [==============================] - 16s 52ms/step - loss: 1.1668 - accuracy: 0.6441 - val_loss: 10.5342 - val_accuracy: 0.1170 - lr: 0.0010\n",
            "Epoch 4/25\n",
            "311/310 [==============================] - 16s 52ms/step - loss: 0.8418 - accuracy: 0.7433 - val_loss: 12.0001 - val_accuracy: 0.1227 - lr: 3.0000e-04\n",
            "Epoch 5/25\n",
            "311/310 [==============================] - 16s 52ms/step - loss: 0.7545 - accuracy: 0.7731 - val_loss: 12.2731 - val_accuracy: 0.1197 - lr: 3.0000e-04\n",
            "Epoch 6/25\n",
            "311/310 [==============================] - 16s 52ms/step - loss: 0.6808 - accuracy: 0.7970 - val_loss: 12.6877 - val_accuracy: 0.1223 - lr: 9.0000e-05\n",
            "Epoch 7/25\n",
            "311/310 [==============================] - 16s 52ms/step - loss: 0.6525 - accuracy: 0.8025 - val_loss: 12.6935 - val_accuracy: 0.1250 - lr: 9.0000e-05\n",
            "Epoch 8/25\n",
            "311/310 [==============================] - 16s 52ms/step - loss: 0.6345 - accuracy: 0.8111 - val_loss: 12.6569 - val_accuracy: 0.1252 - lr: 2.7000e-05\n",
            "Epoch 9/25\n",
            "311/310 [==============================] - 17s 53ms/step - loss: 0.6259 - accuracy: 0.8131 - val_loss: 12.7200 - val_accuracy: 0.1301 - lr: 2.7000e-05\n",
            "Epoch 10/25\n",
            "311/310 [==============================] - 16s 52ms/step - loss: 0.6189 - accuracy: 0.8161 - val_loss: 12.7715 - val_accuracy: 0.1256 - lr: 8.1000e-06\n",
            "Epoch 11/25\n",
            "311/310 [==============================] - 16s 52ms/step - loss: 0.6213 - accuracy: 0.8135 - val_loss: 12.8041 - val_accuracy: 0.1273 - lr: 8.1000e-06\n",
            "Epoch 12/25\n",
            "311/310 [==============================] - 16s 52ms/step - loss: 0.6090 - accuracy: 0.8201 - val_loss: 12.7408 - val_accuracy: 0.1268 - lr: 2.4300e-06\n",
            "Epoch 13/25\n",
            "311/310 [==============================] - 16s 52ms/step - loss: 0.6106 - accuracy: 0.8163 - val_loss: 12.8211 - val_accuracy: 0.1277 - lr: 2.4300e-06\n",
            "Epoch 14/25\n",
            "311/310 [==============================] - 16s 51ms/step - loss: 0.6033 - accuracy: 0.8189 - val_loss: 12.8658 - val_accuracy: 0.1246 - lr: 1.0000e-06\n",
            "Epoch 15/25\n",
            "311/310 [==============================] - 16s 52ms/step - loss: 0.6089 - accuracy: 0.8128 - val_loss: 12.8278 - val_accuracy: 0.1275 - lr: 1.0000e-06\n",
            "Epoch 16/25\n",
            "311/310 [==============================] - 16s 51ms/step - loss: 0.6037 - accuracy: 0.8245 - val_loss: 12.8923 - val_accuracy: 0.1252 - lr: 1.0000e-06\n",
            "Epoch 17/25\n",
            "311/310 [==============================] - 16s 52ms/step - loss: 0.6102 - accuracy: 0.8165 - val_loss: 12.9269 - val_accuracy: 0.1248 - lr: 1.0000e-06\n",
            "Epoch 18/25\n",
            "311/310 [==============================] - 16s 52ms/step - loss: 0.6073 - accuracy: 0.8217 - val_loss: 12.9019 - val_accuracy: 0.1281 - lr: 1.0000e-06\n",
            "Epoch 19/25\n",
            "311/310 [==============================] - 16s 51ms/step - loss: 0.6089 - accuracy: 0.8153 - val_loss: 12.8691 - val_accuracy: 0.1244 - lr: 1.0000e-06\n",
            "Epoch 20/25\n",
            "311/310 [==============================] - 16s 52ms/step - loss: 0.6152 - accuracy: 0.8182 - val_loss: 12.9280 - val_accuracy: 0.1266 - lr: 1.0000e-06\n",
            "Epoch 21/25\n",
            "311/310 [==============================] - 16s 52ms/step - loss: 0.6078 - accuracy: 0.8217 - val_loss: 12.9558 - val_accuracy: 0.1266 - lr: 1.0000e-06\n",
            "Epoch 22/25\n",
            "311/310 [==============================] - 16s 52ms/step - loss: 0.6169 - accuracy: 0.8198 - val_loss: 12.8378 - val_accuracy: 0.1250 - lr: 1.0000e-06\n",
            "Epoch 23/25\n",
            "311/310 [==============================] - 16s 52ms/step - loss: 0.6180 - accuracy: 0.8163 - val_loss: 12.8667 - val_accuracy: 0.1268 - lr: 1.0000e-06\n",
            "Epoch 24/25\n",
            "311/310 [==============================] - 16s 52ms/step - loss: 0.6008 - accuracy: 0.8216 - val_loss: 12.8925 - val_accuracy: 0.1268 - lr: 1.0000e-06\n",
            "Epoch 25/25\n",
            "311/310 [==============================] - 16s 52ms/step - loss: 0.6106 - accuracy: 0.8173 - val_loss: 12.8434 - val_accuracy: 0.1283 - lr: 1.0000e-06\n"
          ],
          "name": "stdout"
        }
      ]
    },
    {
      "cell_type": "code",
      "metadata": {
        "id": "9BDACK1AtN_a",
        "outputId": "556a7f86-a568-46e2-fa73-0d51dfa95ec6",
        "colab": {
          "base_uri": "https://localhost:8080/",
          "height": 295
        }
      },
      "source": [
        "\n",
        "plt.plot(histoy.history['accuracy'])\n",
        "plt.plot(histoy.history['val_accuracy'])\n",
        "plt.title('model accuracy ')\n",
        "plt.ylabel('accuracy')\n",
        "plt.xlabel('epoch')\n",
        "plt.legend(['train', 'test'], loc='upper left')\n",
        "plt.show()"
      ],
      "execution_count": null,
      "outputs": [
        {
          "output_type": "display_data",
          "data": {
            "image/png": "[encoded data removed]",
            "text/plain": [
              "<Figure size 432x288 with 1 Axes>"
            ]
          },
          "metadata": {
            "tags": [],
            "needs_background": "light"
          }
        }
      ]
    },
    {
      "cell_type": "code",
      "metadata": {
        "id": "dZFg3Wc6tN_b",
        "outputId": "0dd5b920-09ca-4c82-8a79-3f21bb45c796",
        "colab": {
          "base_uri": "https://localhost:8080/",
          "height": 295
        }
      },
      "source": [
        "plt.plot(histoy.history['loss'])\n",
        "plt.plot(histoy.history['val_loss'])\n",
        "plt.title('model loss')\n",
        "plt.ylabel('loss')\n",
        "plt.xlabel('epoch')\n",
        "plt.legend(['train', 'test'], loc='upper left')\n",
        "plt.show()"
      ],
      "execution_count": null,
      "outputs": [
        {
          "output_type": "display_data",
          "data": {
            "image/png": "[encoded data removed]",
            "text/plain": [
              "<Figure size 432x288 with 1 Axes>"
            ]
          },
          "metadata": {
            "tags": [],
            "needs_background": "light"
          }
        }
      ]
    },
    {
      "cell_type": "code",
      "metadata": {
        "id": "sD7OFMkktN_e",
        "outputId": "a53fd1e7-76b3-4272-d41e-44220b696878",
        "colab": {
          "base_uri": "https://localhost:8080/",
          "height": 34
        }
      },
      "source": [
        "val_generator.reset()\n",
        "y_pred=model.predict(val_generator,steps=val_generator.n/batch_size,verbose=1)"
      ],
      "execution_count": null,
      "outputs": [
        {
          "output_type": "stream",
          "text": [
            "133/132 [==============================] - 5s 39ms/step\n"
          ],
          "name": "stdout"
        }
      ]
    },
    {
      "cell_type": "code",
      "metadata": {
        "id": "WYzZrgrktN_f"
      },
      "source": [
        "y_true = val_generator.classes"
      ],
      "execution_count": null,
      "outputs": []
    },
    {
      "cell_type": "code",
      "metadata": {
        "id": "74QPd8pJyT0E",
        "outputId": "3d0a6a3c-f16f-4a5f-b545-83307ccdad9a",
        "colab": {
          "base_uri": "https://localhost:8080/",
          "height": 34
        }
      },
      "source": [
        "y_pred.shape,y_true.shape"
      ],
      "execution_count": null,
      "outputs": [
        {
          "output_type": "execute_result",
          "data": {
            "text/plain": [
              "((8481, 40), (8481,))"
            ]
          },
          "metadata": {
            "tags": []
          },
          "execution_count": 29
        }
      ]
    },
    {
      "cell_type": "code",
      "metadata": {
        "id": "R3VWewLBtN_h"
      },
      "source": [
        "y_pred=np.argmax(y_pred, axis=1)\n"
      ],
      "execution_count": null,
      "outputs": []
    },
    {
      "cell_type": "code",
      "metadata": {
        "id": "qEi8gTLLtN_j",
        "outputId": "ddd00e6d-3d97-4ce8-f8ae-06d0bce723fc",
        "colab": {
          "base_uri": "https://localhost:8080/",
          "height": 50
        }
      },
      "source": [
        "from sklearn.metrics import classification_report,accuracy_score,f1_score\n",
        "print(accuracy_score(y_true,y_pred))\n",
        "print(f1_score(y_true,y_pred,average='macro'))"
      ],
      "execution_count": null,
      "outputs": [
        {
          "output_type": "stream",
          "text": [
            "0.8034429902134183\n",
            "0.8029529347380467\n"
          ],
          "name": "stdout"
        }
      ]
    },
    {
      "cell_type": "code",
      "metadata": {
        "id": "y5iUH7QFtN_l",
        "outputId": "8eb418c7-e1f7-4225-af3a-8fa8b88ff577",
        "colab": {
          "base_uri": "https://localhost:8080/",
          "height": 806
        }
      },
      "source": [
        "class_label=list(train_generator.class_indices.keys())\n",
        "\n",
        "print(classification_report(y_true, y_pred,target_names=class_label))#\n"
      ],
      "execution_count": null,
      "outputs": [
        {
          "output_type": "stream",
          "text": [
            "              precision    recall  f1-score   support\n",
            "\n",
            "        alif       0.87      0.93      0.90       209\n",
            " alif mad aa       0.78      0.94      0.85       224\n",
            "         ayn       0.76      0.69      0.72       243\n",
            "         baa       0.90      0.92      0.91       157\n",
            "    bari yaa       0.96      0.94      0.95       248\n",
            "       cheey       0.91      0.90      0.90       219\n",
            "   choti yaa       0.74      0.76      0.75       245\n",
            "        daal       0.77      0.81      0.79       192\n",
            "       dhaal       0.77      0.73      0.75       186\n",
            "         faa       0.85      0.84      0.84       229\n",
            "        gaaf       0.80      0.75      0.78       214\n",
            "       ghain       0.78      0.66      0.72       222\n",
            "        haa1       0.77      0.82      0.80       246\n",
            "        haa2       0.92      0.87      0.89       237\n",
            "        haa3       0.87      0.81      0.84       224\n",
            "       hamza       0.79      0.90      0.84       247\n",
            "        jeem       0.93      0.89      0.91       206\n",
            "        kaaf       0.64      0.61      0.62       225\n",
            "        khaa       0.75      0.72      0.74       233\n",
            "        laam       0.74      0.66      0.70       155\n",
            "        meem       0.74      0.72      0.73       247\n",
            "        noon       0.86      0.85      0.86       233\n",
            "  noonghunna       0.82      0.87      0.85       216\n",
            "         paa       0.89      0.89      0.89       229\n",
            "        qaaf       0.78      0.84      0.81       230\n",
            "         raa       0.73      0.76      0.75       174\n",
            "       rhraa       0.73      0.77      0.75       153\n",
            "        seen       0.60      0.60      0.60       218\n",
            "        seey       0.86      0.83      0.85       178\n",
            "       sheen       0.88      0.76      0.81       178\n",
            "       swaad       0.68      0.76      0.72       225\n",
            "         taa       0.73      0.74      0.73       220\n",
            "        ttaa       0.69      0.72      0.71       174\n",
            "         twa       0.71      0.65      0.68       240\n",
            "         waw       0.83      0.89      0.86       227\n",
            "        zaaa       0.92      0.94      0.93       174\n",
            "        zaal       0.84      0.84      0.84       161\n",
            "        zhaa       0.86      0.82      0.84       200\n",
            "        zwaa       0.90      0.89      0.90       226\n",
            "       zwaad       0.82      0.82      0.82       217\n",
            "\n",
            "    accuracy                           0.80      8481\n",
            "   macro avg       0.80      0.80      0.80      8481\n",
            "weighted avg       0.80      0.80      0.80      8481\n",
            "\n"
          ],
          "name": "stdout"
        }
      ]
    },
    {
      "cell_type": "code",
      "metadata": {
        "id": "q8Zmwt52zoKf"
      },
      "source": [],
      "execution_count": null,
      "outputs": []
    }
  ]
}